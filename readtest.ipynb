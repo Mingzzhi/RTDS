{
 "cells": [
  {
   "cell_type": "code",
   "execution_count": 2,
   "id": "f33637f2",
   "metadata": {},
   "outputs": [
    {
     "ename": "NameError",
     "evalue": "name 'Allhourseholds' is not defined",
     "output_type": "error",
     "traceback": [
      "\u001b[0;31m---------------------------------------------------------------------------\u001b[0m",
      "\u001b[0;31mNameError\u001b[0m                                 Traceback (most recent call last)",
      "\u001b[0;32m/var/folders/yp/fsf6x35d6x9frhxzx680cyhr0000gn/T/ipykernel_9347/420028308.py\u001b[0m in \u001b[0;36m<module>\u001b[0;34m\u001b[0m\n\u001b[1;32m      5\u001b[0m \u001b[0;34m\u001b[0m\u001b[0m\n\u001b[1;32m      6\u001b[0m \u001b[0mNumberhouse\u001b[0m\u001b[0;34m=\u001b[0m\u001b[0;36m14\u001b[0m\u001b[0;34m\u001b[0m\u001b[0;34m\u001b[0m\u001b[0m\n\u001b[0;32m----> 7\u001b[0;31m \u001b[0mallrecord\u001b[0m\u001b[0;34m=\u001b[0m\u001b[0mAllhourseholds\u001b[0m\u001b[0;34m(\u001b[0m\u001b[0;34m)\u001b[0m\u001b[0;34m\u001b[0m\u001b[0;34m\u001b[0m\u001b[0m\n\u001b[0m\u001b[1;32m      8\u001b[0m \u001b[0mallrecord\u001b[0m\u001b[0;34m.\u001b[0m\u001b[0mnumber\u001b[0m\u001b[0;34m=\u001b[0m\u001b[0mNumberhouse\u001b[0m\u001b[0;34m\u001b[0m\u001b[0;34m\u001b[0m\u001b[0m\n\u001b[1;32m      9\u001b[0m \u001b[0;34m@\u001b[0m\u001b[0mdataclass\u001b[0m\u001b[0;34m(\u001b[0m\u001b[0;34m)\u001b[0m\u001b[0;34m\u001b[0m\u001b[0;34m\u001b[0m\u001b[0m\n",
      "\u001b[0;31mNameError\u001b[0m: name 'Allhourseholds' is not defined"
     ]
    }
   ],
   "source": [
    "import pandas as pd\n",
    "from dataclasses import dataclass\n",
    "import numpy as np\n",
    "\n",
    "\n",
    "Numberhouse=14\n",
    "allrecord=Allhourseholds()\n",
    "allrecord.number=Numberhouse\n",
    "@dataclass()\n",
    "class Currenthouse:\n",
    "    name:str\n",
    "\n",
    "    reactive: []\n",
    "    active: []\n",
    "    time: []\n",
    "        \n",
    "class Allhourseholds():\n",
    "    def __init__(self, number,house):\n",
    "        self.number=number\n",
    "        self.houses=house\n",
    "    def Readfilesepare(self):\n",
    "        \n",
    "        data = pd.read_csv('profiles.csv', parse_dates=['t'])\n",
    "        data_read=data.iloc[:,2:12]\n",
    "        j=1;\n",
    "        allrecord.houses=[ Currenthouse() for i in range(Numberhouse)]\n",
    "        for i in range(data_read.shape[0]):\n",
    "            # 15 means Numberhouse+1\n",
    "            if (i+1)%15==0:\n",
    "                for j in range(15):\n",
    "                    if data_read.iloc[i+j,0]=='B1':\n",
    "                        allrecord.houses[0].name='B1'\n",
    "                        addhousele(data_read.iloc[i+j,:].tolist(),allrecord.houses[0])\n",
    "                    elif data_read.iloc[i+j,0]=='B2':\n",
    "                        allrecord.houses[1].name='B2'\n",
    "                        addhousele(data_read.iloc[i+j,:].tolist(),allrecord.houses[1])\n",
    "                    elif data_read.iloc[i+j,0]=='B3':\n",
    "                        allrecord.houses[2].name='B3'\n",
    "                        addhousele(data_read.iloc[i+j,:].tolist(),allrecord.houses[2])\n",
    "                    elif data_read.iloc[i+j,0]=='B4':\n",
    "                        allrecord.houses[3].name='B4'\n",
    "                        addhousele(data_read.iloc[i+j,:].tolist(),allrecord.houses[3])\n",
    "                    elif data_read.iloc[i+j,0]=='B5':\n",
    "                        allrecord.houses[4].name='B5'\n",
    "                        addhousele(data_read.iloc[i+j,:].tolist(),allrecord.houses[4])\n",
    "                    elif data_read.iloc[i+j,0]=='B6':\n",
    "                        allrecord.houses[5].name='B6'\n",
    "                        addhousele(data_read.iloc[i+j,:].tolist(),allrecord.houses[5])\n",
    "                    elif data_read.iloc[i+j,0]=='B7':\n",
    "                        allrecord.houses[6].name='B7'\n",
    "                        addhousele(data_read.iloc[i+j,:].tolist(),allrecord.houses[6])\n",
    "                    elif data_read.iloc[i+j,0]=='B8':\n",
    "                        allrecord.houses[7].name='B8'\n",
    "                        addhousele(data_read.iloc[i+j,:].tolist(),allrecord.houses[7])\n",
    "                    elif data_read.iloc[i+j,0]=='B9':\n",
    "                        allrecord.houses[8].name='B9'\n",
    "                        addhousele(data_read.iloc[i+j,:].tolist(),allrecord.houses[8])\n",
    "                    elif data_read.iloc[i+j,0]=='B10':\n",
    "                        allrecord.houses[9].name='B10'\n",
    "                        addhousele(data_read.iloc[i+j,:].tolist(),allrecord.houses[9])\n",
    "                    elif data_read.iloc[i+j,0]=='B11':\n",
    "                        allrecord.houses[10].name='B11'\n",
    "                        addhousele(data_read.iloc[i+j,:].tolist(),allrecord.houses[10])\n",
    "                    elif data_read.iloc[i+j,0]=='B12':\n",
    "                        allrecord.houses[11].name='B12'\n",
    "                        addhousele(data_read.iloc[i+j,:].tolist(),allrecord.houses[11])\n",
    "                    elif data_read.iloc[i+j,0]=='B13':\n",
    "                        allrecord.houses[12].name='B13'\n",
    "                        addhousele(data_read.iloc[i+j,:].tolist(),allrecord.houses[12])\n",
    "                    elif data_read.iloc[i+j,0]=='B14':\n",
    "                        allrecord.houses[13].name='B14'\n",
    "                        addhousele(data_read.iloc[i+j,:].tolist(),allrecord.houses[13])\n",
    "                    else:\n",
    "                        allrecord.houses[14].name='HOF'\n",
    "                        allrecord.houses.voltage=[data_read.iloc[i+j,1],data_read.iloc[i+j,4],data_read.iloc[i+j,7]]\n",
    "                        \n",
    "                \n",
    "allrecord.houses=[ Currenthouse() for i in range(Numberhouse+1)]\n",
    "\n",
    "\n",
    "def addhouesele(powerlist,one):\n",
    "    \n",
    "    \n",
    "    size=powerlist.len()\n",
    "    temp1P=[]\n",
    "    temp2Q=[]\n",
    "\n",
    "\n",
    "    \n",
    "    if np.isnan(powerlist[5]):\n",
    "        temp1P.append(powerlist[2])\n",
    "        temp2Q.append(powerlist[3])\n",
    "        one.active.apppend(powerlist[2])\n",
    "        one.reactive.append(powerlist[3])\n",
    "    else:\n",
    "        temp1P=[powerlist[2],powerlist[5],powerlist[8]]\n",
    "        temp2Q=[powerlist[3],powerlist[6],powerlist[9]]\n",
    "       \n",
    "\n",
    "        one.active.append(temp1P)\n",
    "        one.reactive.append(temp2Q)\n",
    "    \n",
    "    \n",
    "        \n",
    "\n"
   ]
  },
  {
   "cell_type": "code",
   "execution_count": 2,
   "id": "ab23534c",
   "metadata": {},
   "outputs": [
    {
     "data": {
      "text/html": [
       "<div>\n",
       "<style scoped>\n",
       "    .dataframe tbody tr th:only-of-type {\n",
       "        vertical-align: middle;\n",
       "    }\n",
       "\n",
       "    .dataframe tbody tr th {\n",
       "        vertical-align: top;\n",
       "    }\n",
       "\n",
       "    .dataframe thead th {\n",
       "        text-align: right;\n",
       "    }\n",
       "</style>\n",
       "<table border=\"1\" class=\"dataframe\">\n",
       "  <thead>\n",
       "    <tr style=\"text-align: right;\">\n",
       "      <th></th>\n",
       "      <th>Unnamed: 0</th>\n",
       "      <th>t</th>\n",
       "      <th>ID</th>\n",
       "      <th>VA</th>\n",
       "      <th>PA</th>\n",
       "      <th>QA</th>\n",
       "      <th>VB</th>\n",
       "      <th>PB</th>\n",
       "      <th>QB</th>\n",
       "      <th>VC</th>\n",
       "      <th>PC</th>\n",
       "      <th>QC</th>\n",
       "    </tr>\n",
       "  </thead>\n",
       "  <tbody>\n",
       "    <tr>\n",
       "      <th>0</th>\n",
       "      <td>0</td>\n",
       "      <td>2022-11-09 00:00:00+11:00</td>\n",
       "      <td>B1</td>\n",
       "      <td>NaN</td>\n",
       "      <td>0.110959</td>\n",
       "      <td>-0.077458</td>\n",
       "      <td>NaN</td>\n",
       "      <td>0.024256</td>\n",
       "      <td>-0.159802</td>\n",
       "      <td>NaN</td>\n",
       "      <td>0.035745</td>\n",
       "      <td>-0.031456</td>\n",
       "    </tr>\n",
       "    <tr>\n",
       "      <th>1</th>\n",
       "      <td>1</td>\n",
       "      <td>2022-11-09 00:00:00+11:00</td>\n",
       "      <td>B10</td>\n",
       "      <td>NaN</td>\n",
       "      <td>0.365875</td>\n",
       "      <td>-0.156021</td>\n",
       "      <td>NaN</td>\n",
       "      <td>NaN</td>\n",
       "      <td>NaN</td>\n",
       "      <td>NaN</td>\n",
       "      <td>NaN</td>\n",
       "      <td>NaN</td>\n",
       "    </tr>\n",
       "    <tr>\n",
       "      <th>2</th>\n",
       "      <td>2</td>\n",
       "      <td>2022-11-09 00:00:00+11:00</td>\n",
       "      <td>B11</td>\n",
       "      <td>NaN</td>\n",
       "      <td>0.168433</td>\n",
       "      <td>0.042108</td>\n",
       "      <td>NaN</td>\n",
       "      <td>NaN</td>\n",
       "      <td>NaN</td>\n",
       "      <td>NaN</td>\n",
       "      <td>NaN</td>\n",
       "      <td>NaN</td>\n",
       "    </tr>\n",
       "    <tr>\n",
       "      <th>3</th>\n",
       "      <td>3</td>\n",
       "      <td>2022-11-09 00:00:00+11:00</td>\n",
       "      <td>B12</td>\n",
       "      <td>NaN</td>\n",
       "      <td>0.091039</td>\n",
       "      <td>0.056335</td>\n",
       "      <td>NaN</td>\n",
       "      <td>0.009512</td>\n",
       "      <td>0.000000</td>\n",
       "      <td>NaN</td>\n",
       "      <td>0.000000</td>\n",
       "      <td>-0.059550</td>\n",
       "    </tr>\n",
       "    <tr>\n",
       "      <th>4</th>\n",
       "      <td>4</td>\n",
       "      <td>2022-11-09 00:00:00+11:00</td>\n",
       "      <td>B13</td>\n",
       "      <td>NaN</td>\n",
       "      <td>0.152391</td>\n",
       "      <td>-0.237474</td>\n",
       "      <td>NaN</td>\n",
       "      <td>NaN</td>\n",
       "      <td>NaN</td>\n",
       "      <td>NaN</td>\n",
       "      <td>NaN</td>\n",
       "      <td>NaN</td>\n",
       "    </tr>\n",
       "  </tbody>\n",
       "</table>\n",
       "</div>"
      ],
      "text/plain": [
       "   Unnamed: 0                         t   ID  VA        PA        QA  VB  \\\n",
       "0           0 2022-11-09 00:00:00+11:00   B1 NaN  0.110959 -0.077458 NaN   \n",
       "1           1 2022-11-09 00:00:00+11:00  B10 NaN  0.365875 -0.156021 NaN   \n",
       "2           2 2022-11-09 00:00:00+11:00  B11 NaN  0.168433  0.042108 NaN   \n",
       "3           3 2022-11-09 00:00:00+11:00  B12 NaN  0.091039  0.056335 NaN   \n",
       "4           4 2022-11-09 00:00:00+11:00  B13 NaN  0.152391 -0.237474 NaN   \n",
       "\n",
       "         PB        QB  VC        PC        QC  \n",
       "0  0.024256 -0.159802 NaN  0.035745 -0.031456  \n",
       "1       NaN       NaN NaN       NaN       NaN  \n",
       "2       NaN       NaN NaN       NaN       NaN  \n",
       "3  0.009512  0.000000 NaN  0.000000 -0.059550  \n",
       "4       NaN       NaN NaN       NaN       NaN  "
      ]
     },
     "execution_count": 2,
     "metadata": {},
     "output_type": "execute_result"
    }
   ],
   "source": [
    "data.head()"
   ]
  },
  {
   "cell_type": "code",
   "execution_count": 10,
   "id": "1b65b95d",
   "metadata": {},
   "outputs": [],
   "source": [
    "data_read=data.iloc[:,2:12]\n",
    "data_read.head()\n",
    "\n",
    "Numberhouse=14\n"
   ]
  },
  {
   "cell_type": "code",
   "execution_count": 50,
   "id": "dda24c59",
   "metadata": {},
   "outputs": [
    {
     "name": "stdout",
     "output_type": "stream",
     "text": [
      "4005\n",
      "['B1', nan, 0.1109592, -0.0774576, nan, 0.0242556, -0.1598016, nan, 0.035745, -0.0314556]\n",
      "True\n",
      "[nan, nan, nan]\n"
     ]
    }
   ],
   "source": [
    "\n",
    "\n",
    "print(data_read.shape[0])\n",
    "\n",
    "print(data_read.iloc[0,:].tolist())\n",
    "tp=data_read.iloc[1,:].tolist()\n",
    "print(np.isnan(tp[5]))\n",
    "print(tp[6:9])"
   ]
  },
  {
   "cell_type": "code",
   "execution_count": 12,
   "id": "8d0c9af4",
   "metadata": {},
   "outputs": [
    {
     "name": "stdout",
     "output_type": "stream",
     "text": [
      "     ID      VA        PA        QA      VB        PB        QB      VC  \\\n",
      "0    B1     NaN  0.110959 -0.077458     NaN  0.024256 -0.159802     NaN   \n",
      "1   B10     NaN  0.365875 -0.156021     NaN       NaN       NaN     NaN   \n",
      "2   B11     NaN  0.168433  0.042108     NaN       NaN       NaN     NaN   \n",
      "3   B12     NaN  0.091039  0.056335     NaN  0.009512  0.000000     NaN   \n",
      "4   B13     NaN  0.152391 -0.237474     NaN       NaN       NaN     NaN   \n",
      "5   B14     NaN  0.229566  0.090687     NaN       NaN       NaN     NaN   \n",
      "6    B2     NaN  0.195061  0.130990     NaN       NaN       NaN     NaN   \n",
      "7    B3     NaN  0.049266 -0.100436     NaN  0.034777 -0.123864     NaN   \n",
      "8    B4     NaN  0.040426 -0.171216     NaN       NaN       NaN     NaN   \n",
      "9    B5     NaN  0.409855 -0.296808     NaN       NaN       NaN     NaN   \n",
      "10   B6     NaN  0.368784  0.000000     NaN       NaN       NaN     NaN   \n",
      "11   B7     NaN  0.011890  0.000000     NaN  0.006429 -0.006905     NaN   \n",
      "12   B8     NaN  0.039799 -0.360325     NaN       NaN       NaN     NaN   \n",
      "13   B9     NaN  0.000000 -0.059525     NaN  0.007131  0.000000     NaN   \n",
      "14  HOF  238.07       NaN       NaN  237.99       NaN       NaN  237.64   \n",
      "\n",
      "          PC        QC  \n",
      "0   0.035745 -0.031456  \n",
      "1        NaN       NaN  \n",
      "2        NaN       NaN  \n",
      "3   0.000000 -0.059550  \n",
      "4        NaN       NaN  \n",
      "5        NaN       NaN  \n",
      "6        NaN       NaN  \n",
      "7   0.287859  0.000000  \n",
      "8        NaN       NaN  \n",
      "9        NaN       NaN  \n",
      "10       NaN       NaN  \n",
      "11  0.364897  0.176640  \n",
      "12       NaN       NaN  \n",
      "13  0.055054 -0.189128  \n",
      "14       NaN       NaN  \n"
     ]
    }
   ],
   "source": [
    "data_onehouse=data_read.iloc[0:Numberhouse+1,:]\n",
    "print(data_onehouse)"
   ]
  },
  {
   "cell_type": "code",
   "execution_count": 37,
   "id": "4d5e219c",
   "metadata": {},
   "outputs": [
    {
     "name": "stdout",
     "output_type": "stream",
     "text": [
      "\n",
      "60000\n"
     ]
    }
   ],
   "source": [
    "a_2d = np.arange(12).reshape((3, 4))\n",
    "\n",
    "a_2d=np.empty(60000)\n",
    "# print(a_2d[0:3,0]==0.0)\n",
    "print()\n",
    "print(a_2d.shape[0])"
   ]
  },
  {
   "cell_type": "code",
   "execution_count": 13,
   "id": "a4e8c875",
   "metadata": {},
   "outputs": [
    {
     "name": "stdout",
     "output_type": "stream",
     "text": [
      "4\n"
     ]
    }
   ],
   "source": [
    "x = np.array([1, 2, 3, 4])\n",
    "\n",
    "print(x.shape[0])"
   ]
  },
  {
   "cell_type": "code",
   "execution_count": 54,
   "id": "a54d3887",
   "metadata": {},
   "outputs": [
    {
     "name": "stdout",
     "output_type": "stream",
     "text": [
      "Hello World\n"
     ]
    }
   ],
   "source": [
    "import schedule\n",
    "import time \n",
    "# def greet(name):\n",
    "#     print('Hello', name)\n",
    "\n",
    "# schedule.every(2).seconds.do(greet, name='Alice')\n",
    "# schedule.every(4).seconds.do(greet, name='Bob')\n",
    "\n",
    "from schedule import every, repeat\n",
    "\n",
    "@repeat(every(10).seconds, \"World\")\n",
    "@repeat(every(1).day, \"Mars\")\n",
    "def hello(planet):\n",
    "    print(\"Hello\", planet)\n",
    "    \n",
    "schedule.run_pending()\n",
    "\n",
    "schedule.clear()"
   ]
  },
  {
   "cell_type": "code",
   "execution_count": 59,
   "id": "aaad4e26",
   "metadata": {},
   "outputs": [
    {
     "name": "stdout",
     "output_type": "stream",
     "text": [
      "['B1', 'B2', 'B3', 'B4', 'B5', 'B6', 'B7', 'B8', 'B9', 'B10']\n"
     ]
    }
   ],
   "source": [
    "class Point:\n",
    "    \"\"\" Point class for representing and manipulating x,y coordinates. \"\"\"\n",
    "\n",
    "    def __init__(self, initX, initY):\n",
    "\n",
    "        self.x = initX\n",
    "        self.y = initY\n",
    "        \n",
    "class Cpoint:\n",
    "    def __init__(self):\n",
    "        self.uni=[Point(\"B{0}\".format(i+1),\"x\") for i in range(10)]\n",
    "thisone=Cpoint()\n",
    "\n",
    "\n",
    "print([thisone.uni[i].x for i in range(len(thisone.uni))] )\n",
    "\n"
   ]
  },
  {
   "cell_type": "code",
   "execution_count": 9,
   "id": "4eec677b",
   "metadata": {},
   "outputs": [
    {
     "ename": "TypeError",
     "evalue": "list indices must be integers or slices, not tuple",
     "output_type": "error",
     "traceback": [
      "\u001b[0;31m---------------------------------------------------------------------------\u001b[0m",
      "\u001b[0;31mTypeError\u001b[0m                                 Traceback (most recent call last)",
      "\u001b[0;32m/var/folders/yp/fsf6x35d6x9frhxzx680cyhr0000gn/T/ipykernel_24219/2526823782.py\u001b[0m in \u001b[0;36m<module>\u001b[0;34m\u001b[0m\n\u001b[1;32m      1\u001b[0m \u001b[0mtear\u001b[0m\u001b[0;34m=\u001b[0m\u001b[0;34m[\u001b[0m\u001b[0;36m1\u001b[0m\u001b[0;34m,\u001b[0m\u001b[0;36m2\u001b[0m\u001b[0;34m,\u001b[0m \u001b[0;36m3\u001b[0m\u001b[0;34m,\u001b[0m\u001b[0;36m4\u001b[0m\u001b[0;34m,\u001b[0m\u001b[0;36m66\u001b[0m \u001b[0;34m,\u001b[0m\u001b[0;36m44\u001b[0m\u001b[0;34m,\u001b[0m\u001b[0;36m77\u001b[0m\u001b[0;34m,\u001b[0m\u001b[0;36m4\u001b[0m\u001b[0;34m,\u001b[0m\u001b[0;36m66\u001b[0m\u001b[0;34m,\u001b[0m\u001b[0;36m4\u001b[0m\u001b[0;34m,\u001b[0m\u001b[0;36m4\u001b[0m\u001b[0;34m,\u001b[0m\u001b[0;36m4\u001b[0m\u001b[0;34m,\u001b[0m\u001b[0;36m6\u001b[0m\u001b[0;34m,\u001b[0m\u001b[0;36m4\u001b[0m\u001b[0;34m,\u001b[0m\u001b[0;36m4\u001b[0m\u001b[0;34m,\u001b[0m\u001b[0;36m4\u001b[0m\u001b[0;34m,\u001b[0m\u001b[0;34m]\u001b[0m\u001b[0;34m\u001b[0m\u001b[0;34m\u001b[0m\u001b[0m\n\u001b[1;32m      2\u001b[0m \u001b[0mte\u001b[0m\u001b[0;34m=\u001b[0m\u001b[0mtear\u001b[0m\u001b[0;34m[\u001b[0m\u001b[0;36m0\u001b[0m\u001b[0;34m:\u001b[0m\u001b[0;36m3\u001b[0m\u001b[0;34m]\u001b[0m\u001b[0;34m+\u001b[0m\u001b[0mtear\u001b[0m\u001b[0;34m[\u001b[0m\u001b[0;36m4\u001b[0m\u001b[0;34m:\u001b[0m\u001b[0;36m5\u001b[0m\u001b[0;34m]\u001b[0m\u001b[0;34m\u001b[0m\u001b[0;34m\u001b[0m\u001b[0m\n\u001b[0;32m----> 3\u001b[0;31m \u001b[0mprint\u001b[0m\u001b[0;34m(\u001b[0m \u001b[0mtear\u001b[0m\u001b[0;34m[\u001b[0m\u001b[0;36m0\u001b[0m\u001b[0;34m:\u001b[0m\u001b[0;36m3\u001b[0m\u001b[0;34m,\u001b[0m\u001b[0;36m4\u001b[0m\u001b[0;34m:\u001b[0m\u001b[0;36m5\u001b[0m\u001b[0;34m]\u001b[0m\u001b[0;34m)\u001b[0m\u001b[0;34m\u001b[0m\u001b[0;34m\u001b[0m\u001b[0m\n\u001b[0m",
      "\u001b[0;31mTypeError\u001b[0m: list indices must be integers or slices, not tuple"
     ]
    }
   ],
   "source": [
    "# tear=[1,2, 3,4,66 ,44,77,4,66,4,4,4,6,4,4,4,]\n",
    "# te=tear[0:3]+tear[4:5]\n",
    "# print( tear[0:3,4:5])"
   ]
  },
  {
   "cell_type": "code",
   "execution_count": 39,
   "id": "62ac526b",
   "metadata": {},
   "outputs": [
    {
     "name": "stdout",
     "output_type": "stream",
     "text": [
      "43\n",
      "[-0.002, 0.001, 0.007, 0.0, -0.003, 0.008, -0.004, 0.003, -0.011, -0.001, -0.004, -0.006, -0.007, 0.012, 0.018, 0.001, -0.011, 0.002, -0.007, -0.006, -0.007, -0.004, 0.006, -0.0, -0.003, -0.007, 0.004, 0.001, 38.711, 0.324, 39.096, 0.328, 15.683, 15.707, 39.023, 0.0, 39.071, 16.22, 15.708, 39.24, 0.281, 0.333]\n"
     ]
    }
   ],
   "source": [
    "with open('/Users/olivia/Downloads/Optestfile.txt', 'r') as file:\n",
    "    \n",
    "    lines = file.readline()\n",
    "    i=1\n",
    "    \n",
    "    \n",
    "    fe=first.split(\",\")\n",
    "    chun=fe[0:42]\n",
    "    chun=[float(chun[i]) for i in range(len(chun))]\n",
    "    print(len(fe))\n",
    "    print(chun )\n",
    "  \n",
    "         "
   ]
  },
  {
   "cell_type": "code",
   "execution_count": 58,
   "id": "c1e5c7fb",
   "metadata": {},
   "outputs": [],
   "source": [
    "\n",
    "def LoadStream(index):\n",
    "    with open('newopfile.txt', 'r') as file:\n",
    "        \n",
    "        i=0;\n",
    "\n",
    "        while True:\n",
    "            \n",
    "            line = file.readline()\n",
    "            if i==index:\n",
    "                \n",
    "                fe = line.split(\",\")\n",
    "                chun = fe[0:42]\n",
    "                chun = [float(chun[i]) for i in range(len(chun))]\n",
    "                break\n",
    "            elif not lines:\n",
    "                break\n",
    "            \n",
    "            i=i+1;\n",
    "            \n",
    "        \n",
    "        \n",
    "        return chun\n",
    "    \n",
    "    \n",
    "\n"
   ]
  },
  {
   "cell_type": "code",
   "execution_count": 59,
   "id": "b586eab6",
   "metadata": {},
   "outputs": [
    {
     "name": "stdout",
     "output_type": "stream",
     "text": [
      "[-0.002, 0.001, 0.007, 0.0, -0.003, 0.008, -0.004, 0.003, -0.011, -0.001, -0.004, -0.006, -0.007, 0.012, 0.018, 0.001, -0.011, 0.002, -0.007, -0.006, -0.007, -0.004, 0.006, -0.0, -0.003, -0.007, 0.004, 0.001, 38.711, 0.324, 39.096, 0.328, 15.683, 15.707, 39.023, 0.0, 39.071, 16.22, 15.708, 39.24, 0.281, 0.333]\n"
     ]
    }
   ],
   "source": [
    "print(LoadStream(0))"
   ]
  },
  {
   "cell_type": "code",
   "execution_count": 61,
   "id": "c1bd8e58",
   "metadata": {},
   "outputs": [
    {
     "name": "stdout",
     "output_type": "stream",
     "text": [
      "[0.999, -0.322, 0.199, 0.131, 0.362, -0.21, 0.038, -0.171, 0.44, -0.237, 0.363, 0.0, 0.356, 0.156, 0.055, -0.361, 0.44, -0.137, 0.357, 0.0, 0.356, 0.031, 0.084, -0.015, 0.152, -0.238, 0.091, 0.09, 225.924, 226.393, 226.902, 225.978, 226.23, 226.149, 226.307, 225.752, 226.851, 225.628, 224.295, 226.859, 226.409, 225.972]\n"
     ]
    }
   ],
   "source": [
    "print(LoadStream(1))"
   ]
  },
  {
   "cell_type": "code",
   "execution_count": null,
   "id": "f98c3786",
   "metadata": {},
   "outputs": [],
   "source": []
  }
 ],
 "metadata": {
  "kernelspec": {
   "display_name": "Python 3 (ipykernel)",
   "language": "python",
   "name": "python3"
  },
  "language_info": {
   "codemirror_mode": {
    "name": "ipython",
    "version": 3
   },
   "file_extension": ".py",
   "mimetype": "text/x-python",
   "name": "python",
   "nbconvert_exporter": "python",
   "pygments_lexer": "ipython3",
   "version": "3.9.13"
  }
 },
 "nbformat": 4,
 "nbformat_minor": 5
}
